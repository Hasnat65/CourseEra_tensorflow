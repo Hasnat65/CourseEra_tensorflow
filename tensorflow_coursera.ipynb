{
  "nbformat": 4,
  "nbformat_minor": 0,
  "metadata": {
    "colab": {
      "name": "tensorflow coursera",
      "provenance": [],
      "private_outputs": true
    },
    "kernelspec": {
      "name": "python3",
      "display_name": "Python 3"
    }
  },
  "cells": [
    {
      "cell_type": "code",
      "metadata": {
        "id": "Pqk9WF7N--xB",
        "colab_type": "code",
        "colab": {}
      },
      "source": [
        "from tensorflow import keras \n",
        "import tensorflow as tf\n",
        "fashion_mnist= tf.keras.datasets.fashion_mnist\n",
        "(train_images,train_labels),(test_images,test_labels) = fashion_mnist.load_data()"
      ],
      "execution_count": 0,
      "outputs": []
    },
    {
      "cell_type": "code",
      "metadata": {
        "id": "1ux8lxN6_VAd",
        "colab_type": "code",
        "colab": {}
      },
      "source": [
        "import matplotlib.pyplot as plt\n",
        "plt.imshow(test_images[0])\n",
        "print(test_labels[0])\n",
        "print(test_images[0])"
      ],
      "execution_count": 0,
      "outputs": []
    },
    {
      "cell_type": "markdown",
      "metadata": {
        "id": "JFUweC-5A9cQ",
        "colab_type": "text"
      },
      "source": [
        "#Data normalization \n",
        "**bold text**"
      ]
    },
    {
      "cell_type": "code",
      "metadata": {
        "id": "jGBp71kBAtRt",
        "colab_type": "code",
        "colab": {}
      },
      "source": [
        "\n",
        "train_images = train_images/255.0\n",
        "test_images = test_images/ 255.0"
      ],
      "execution_count": 0,
      "outputs": []
    },
    {
      "cell_type": "markdown",
      "metadata": {
        "id": "-QUIT_njBHGU",
        "colab_type": "text"
      },
      "source": [
        "Lets design a **model**"
      ]
    },
    {
      "cell_type": "code",
      "metadata": {
        "id": "nb7KqrwdBLxk",
        "colab_type": "code",
        "colab": {}
      },
      "source": [
        "from keras import layers, models\n",
        "model= models.Sequential( [ layers.Flatten() , layers.Dense( 128, activation= tf.nn.relu), layers.Dense(10,activation= tf.nn.softmax)]  )"
      ],
      "execution_count": 0,
      "outputs": []
    },
    {
      "cell_type": "code",
      "metadata": {
        "id": "MiXf5loRDUJk",
        "colab_type": "code",
        "colab": {}
      },
      "source": [
        "model.compile(optimizer= tf.train.AdamOptimizer(), loss= 'sparse_categorical_crossentropy' )\n",
        "model.fit(train_images,train_labels,epochs=5 )"
      ],
      "execution_count": 0,
      "outputs": []
    },
    {
      "cell_type": "code",
      "metadata": {
        "id": "FQak4ZRDGLcp",
        "colab_type": "code",
        "colab": {}
      },
      "source": [
        "model.evaluate(test_images,test_labels)"
      ],
      "execution_count": 0,
      "outputs": []
    }
  ]
}
